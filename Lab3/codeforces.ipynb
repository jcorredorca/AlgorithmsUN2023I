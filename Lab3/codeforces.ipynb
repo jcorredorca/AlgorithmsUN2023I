{
  "nbformat": 4,
  "nbformat_minor": 0,
  "metadata": {
    "colab": {
      "provenance": [],
      "authorship_tag": "ABX9TyOgNdrTh9TugrQfrQm7o9Zg",
      "include_colab_link": true
    },
    "kernelspec": {
      "name": "python3",
      "display_name": "Python 3"
    }
  },
  "cells": [
    {
      "cell_type": "markdown",
      "metadata": {
        "id": "view-in-github",
        "colab_type": "text"
      },
      "source": [
        "<a href=\"https://colab.research.google.com/github/jcorredorca/AlgorithmsUN2023I/blob/main/Lab3/codeforces.ipynb\" target=\"_parent\"><img src=\"https://colab.research.google.com/assets/colab-badge.svg\" alt=\"Open In Colab\"/></a>"
      ]
    },
    {
      "cell_type": "code",
      "metadata": {
        "id": "7qxb5N_BNOiK",
        "colab": {
          "base_uri": "https://localhost:8080/"
        },
        "outputId": "adf0346b-3f68-421d-d427-c5e215cf4f0e"
      },
      "source": [
        "class Position():\n",
        "\n",
        "  def __init__(self,x = 0, y = 0):\n",
        "    self.x = x\n",
        "    self.y = y\n",
        "  def pos():\n",
        "    L = tuple(self.x, self.y)\n",
        "    return L\n",
        "  def move(s):\n",
        "    if s == \"U\":\n",
        "      self.y += 1\n",
        "    elif s == \"D\":\n",
        "      self.y -= 1\n",
        "    elif s == \"L\":\n",
        "      self.x -= 1\n",
        "    elif s == \"R\":\n",
        "      self.x += 1\n",
        "\n",
        "nc = int(input()) #number of cases\n",
        "\n",
        "i = 0\n",
        "Listacasos = []\n",
        "for i in range(nc):\n",
        "  nm = int(input()) # nm numero de movimientos\n",
        "  listamov = str(input()) # nm en un string\n",
        "  Listacasos.append(listamov)\n",
        "\n",
        "for j in range(len(Listacasos)):\n",
        "  xy = Position()\n",
        "  for k in range(len(Listacasos[j])):\n",
        "    var = str(Listacasos[j][k])\n",
        "    print(var)\n",
        "    xy.move(var)\n",
        "  print(xy.pos())\n",
        "\n",
        "\n",
        "  #iterar en la lista y añadir uno o restar uno en alguna variable de la funcion posicion\n"
      ],
      "execution_count": null,
      "outputs": [
        {
          "name": "stdout",
          "output_type": "stream",
          "text": [
            "2\n",
            "3\n",
            "UUR\n",
            "4\n"
          ]
        }
      ]
    }
  ]
}